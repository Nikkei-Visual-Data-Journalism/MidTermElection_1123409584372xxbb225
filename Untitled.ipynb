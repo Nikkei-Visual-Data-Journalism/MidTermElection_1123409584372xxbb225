{
 "cells": [
  {
   "cell_type": "code",
   "execution_count": 1,
   "id": "ba896a6d-eeed-46c8-a472-d1bdfacf0626",
   "metadata": {},
   "outputs": [
    {
     "name": "stdout",
     "output_type": "stream",
     "text": [
      "Results type is t\n"
     ]
    }
   ],
   "source": [
    "import requests\n",
    "import json\n",
    "import configparser\n",
    "import os\n",
    "import pandas as pd\n",
    "\n",
    "# Setting\n",
    "config = configparser.ConfigParser()\n",
    "config.read('APAPI.ini')\n",
    "# Set api key\n",
    "APIKEY = '8ob3i6tphhraof83cz7wad6mwh'\n",
    "# Set resultstype\n",
    "RESULTSTYPE = config['Default']['resultstype']\n",
    "print(f'Results type is {RESULTSTYPE}')\n",
    "# Election date\n",
    "ELECTIONDATE = '2022-11-08'\n",
    "\n",
    "# Get election results\n",
    "\n",
    "# Senate\n",
    "# Setting\n",
    "officeID = 'S'\n",
    "savefile = config['SaveFile']['senate'].replace('datadir', config['Path']['datadir'])\n",
    "# Request\n",
    "res = requests.get(\n",
    "    f'https://api.ap.org/v3/elections/{ELECTIONDATE}?apikey={APIKEY}&officeID={officeID}&resultstype={RESULTSTYPE}&winner=X&format=json')\n",
    "result = res.json()\n",
    "\n",
    "races = result['races']\n",
    "winners = pd.DataFrame()\n",
    "for race in races:\n",
    "    df = pd.DataFrame(race['reportingUnits'][0]['candidates'])\n",
    "    df['statePostal'] = race['reportingUnits'][0]['statePostal']\n",
    "    df['stateName'] = race['reportingUnits'][0]['stateName']\n",
    "    df['raceID'] = race['raceID']\n",
    "    if 'seatNum' in race.keys():\n",
    "        df['seatNum'] = race['seatNum']\n",
    "    winners = pd.concat([winners, df])\n",
    "if len(winners) == 0:\n",
    "    pd.DataFrame(columns=['first', 'last', 'party', 'candidateID', 'polID', 'ballotOrder',\n",
    "       'polNum', 'voteCount', 'electWon', 'winner', 'winnerDateTime',\n",
    "       'statePostal', 'stateName', 'raceID']).to_csv(savefile, encoding='utf_8_sig', index=False)\n",
    "else:\n",
    "    winners.to_csv(savefile, encoding='utf_8_sig', index=False)\n",
    "\n",
    "\n",
    "\n",
    "# House\n",
    "# Setting\n",
    "officeID = 'H'\n",
    "savefile = config['SaveFile']['house'].replace('datadir', config['Path']['datadir'])\n",
    "# Request\n",
    "res = requests.get(\n",
    "    f'https://api.ap.org/v3/elections/{ELECTIONDATE}?apikey={APIKEY}&officeID={officeID}&resultstype={RESULTSTYPE}&winner=X&format=json')\n",
    "result = res.json()\n",
    "\n",
    "races = result['races']\n",
    "winners = pd.DataFrame()\n",
    "for race in races:\n",
    "    df = pd.DataFrame(race['reportingUnits'][0]['candidates'])\n",
    "    df['statePostal'] = race['reportingUnits'][0]['statePostal']\n",
    "    df['stateName'] = race['reportingUnits'][0]['stateName']\n",
    "    df['raceID'] = race['raceID']\n",
    "    if 'seatNum' in race.keys():\n",
    "        df['seatNum'] = race['seatNum']\n",
    "    winners = pd.concat([winners, df])\n",
    "if len(winners) == 0:\n",
    "    pd.DataFrame(columns=['first', 'last', 'party', 'incumbent', 'candidateID', 'polID',\n",
    "       'ballotOrder', 'polNum', 'voteCount', 'electWon', 'winner',\n",
    "       'winnerDateTime', 'statePostal', 'stateName', 'raceID', 'seatNum',\n",
    "       'abbrv', 'middle']).to_csv(savefile, encoding='utf_8_sig', index=False)\n",
    "else:\n",
    "    winners.to_csv(savefile, encoding='utf_8_sig', index=False)"
   ]
  },
  {
   "cell_type": "code",
   "execution_count": 15,
   "id": "cd5cab08-4d29-46c3-935d-9f5c41fc7a41",
   "metadata": {},
   "outputs": [],
   "source": [
    "res = requests.get(\n",
    "    f'https://api.ap.org/v3/elections/{ELECTIONDATE}?apikey={APIKEY}&officeID=H&resultstype=t&format=json')\n",
    "result = res.json()"
   ]
  },
  {
   "cell_type": "code",
   "execution_count": 18,
   "id": "c5e1fed7-4b2c-48c7-a6c5-2b904679eacf",
   "metadata": {},
   "outputs": [
    {
     "data": {
      "text/plain": [
       "Too Early to Call    439\n",
       "Name: raceCallStatus, dtype: int64"
      ]
     },
     "execution_count": 18,
     "metadata": {},
     "output_type": "execute_result"
    }
   ],
   "source": [
    "pd.DataFrame(result['races']).raceCallStatus.value_counts()"
   ]
  },
  {
   "cell_type": "code",
   "execution_count": null,
   "id": "a0649a84-a077-45ec-af43-ca1875177f62",
   "metadata": {},
   "outputs": [],
   "source": []
  },
  {
   "cell_type": "code",
   "execution_count": null,
   "id": "dadbea39-75f7-448b-b6c6-9a598e43b9cd",
   "metadata": {},
   "outputs": [],
   "source": []
  }
 ],
 "metadata": {
  "kernelspec": {
   "display_name": "Python 3 (ipykernel)",
   "language": "python",
   "name": "python3"
  },
  "language_info": {
   "codemirror_mode": {
    "name": "ipython",
    "version": 3
   },
   "file_extension": ".py",
   "mimetype": "text/x-python",
   "name": "python",
   "nbconvert_exporter": "python",
   "pygments_lexer": "ipython3",
   "version": "3.7.11"
  }
 },
 "nbformat": 4,
 "nbformat_minor": 5
}
