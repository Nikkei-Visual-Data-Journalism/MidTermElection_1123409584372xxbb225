{
 "cells": [
  {
   "cell_type": "code",
   "execution_count": 1,
   "id": "cd2ffdc4-92ee-42f6-98da-87e9b14dbab1",
   "metadata": {},
   "outputs": [],
   "source": [
    "import pandas as pd\n",
    "import requests"
   ]
  },
  {
   "cell_type": "code",
   "execution_count": 2,
   "id": "2c40812d-b09a-46b7-a0b1-84d7cce90395",
   "metadata": {},
   "outputs": [],
   "source": [
    "raceID_house = pd.read_csv('raceID_house.csv', encoding='utf_8_sig', dtype=object)\n",
    "raceID_senate = pd.read_csv('raceID_senate.csv', encoding='utf_8_sig', dtype=object)"
   ]
  },
  {
   "cell_type": "markdown",
   "id": "098bad03-b5b5-4d13-ac54-a5edb402b57e",
   "metadata": {},
   "source": [
    "# Senate"
   ]
  },
  {
   "cell_type": "code",
   "execution_count": 3,
   "id": "a49db315-0670-4393-bedf-594542383b87",
   "metadata": {},
   "outputs": [],
   "source": [
    "APIKEY = '8ob3i6tphhraof83cz7wad6mwh'\n",
    "ELECTIONDATE ='2022-11-08'\n",
    "OFFICEID = 'S'\n",
    "res = requests.get(\n",
    "    f'https://api.ap.org/v3/elections/{ELECTIONDATE}?apikey={APIKEY}&officeID={OFFICEID}&resultstype=l&format=json')"
   ]
  },
  {
   "cell_type": "code",
   "execution_count": 4,
   "id": "ef134800-cc58-4de5-b2e8-c65e1076df28",
   "metadata": {},
   "outputs": [],
   "source": [
    "races = res.json()['races']\n",
    "races = [race for race in races if race['raceID'] in raceID_senate.raceID.to_list()]"
   ]
  },
  {
   "cell_type": "code",
   "execution_count": 5,
   "id": "3943ef30-b346-4eda-96ae-edce45a3ea67",
   "metadata": {},
   "outputs": [
    {
     "data": {
      "text/plain": [
       "35"
      ]
     },
     "execution_count": 5,
     "metadata": {},
     "output_type": "execute_result"
    }
   ],
   "source": [
    "len(races)"
   ]
  },
  {
   "cell_type": "code",
   "execution_count": 6,
   "id": "ce148d44-1243-4021-9b98-6a8edafb8ace",
   "metadata": {},
   "outputs": [],
   "source": [
    "for race in races:\n",
    "    race['statePostal'] = race['reportingUnits'][0]['statePostal']\n",
    "    candidates = race['reportingUnits'][0]['candidates']\n",
    "    race['voteCount_Total'] = sum([c['voteCount'] for c in candidates])\n",
    "    if len([c for c in candidates if c['party']=='GOP'])==1 and len([c for c in candidates if c['party']=='Dem'])==1:\n",
    "        candidate_GOP = [c for c in candidates if c['party']=='GOP'][0]\n",
    "        candidate_Dem = [c for c in candidates if c['party']=='Dem'][0]\n",
    "        race['candidate_GOP'] = candidate_GOP['first'] + ' ' + candidate_GOP['last']\n",
    "        race['candidate_Dem'] = candidate_Dem['first'] + ' ' + candidate_Dem['last']\n",
    "        race['voteCount_GOP'] = candidate_GOP['voteCount']\n",
    "        race['voteCount_Dem'] = candidate_Dem['voteCount']\n",
    "        race['voteCount_Total'] = sum([c['voteCount'] for c in candidates])\n",
    "result = pd.DataFrame(races)\n",
    "result['votePct_GOP'] = result['voteCount_GOP'] / result['voteCount_Total'] * 100\n",
    "result['votePct_Dem'] = result['voteCount_Dem'] / result['voteCount_Total'] * 100\n",
    "\n",
    "result = result[(result.raceCallStatus=='Too Early to Call')|(result.statePostal=='GA')]\n",
    "result = result[(~result.voteCount_GOP.isna())]\n",
    "\n",
    "result[['statePostal', 'seatNum', 'eevp', 'voteCount_Total', 'candidate_GOP', 'voteCount_GOP', 'votePct_GOP', 'candidate_Dem', 'voteCount_Dem', 'votePct_Dem']].to_csv(\n",
    "    'votePct_senate.csv', encoding='utf_8_sig', index=False\n",
    ")"
   ]
  },
  {
   "cell_type": "markdown",
   "id": "94460b3a-6a98-43c1-84f6-587c1a259db2",
   "metadata": {},
   "source": [
    "# House"
   ]
  },
  {
   "cell_type": "code",
   "execution_count": 8,
   "id": "981eafbb-59b2-44b5-9b2e-2f214950a77a",
   "metadata": {},
   "outputs": [],
   "source": [
    "APIKEY = '8ob3i6tphhraof83cz7wad6mwh'\n",
    "ELECTIONDATE ='2022-11-08'\n",
    "OFFICEID = 'H'\n",
    "res = requests.get(\n",
    "    f'https://api.ap.org/v3/elections/{ELECTIONDATE}?apikey={APIKEY}&officeID={OFFICEID}&resultstype=l&format=json')"
   ]
  },
  {
   "cell_type": "code",
   "execution_count": 9,
   "id": "64d75a10-072a-4561-b9c8-a1e1b5ed23c9",
   "metadata": {},
   "outputs": [],
   "source": [
    "races = res.json()['races']\n",
    "races = [race for race in races if race['raceID'] in raceID_house.raceID.to_list()]"
   ]
  },
  {
   "cell_type": "code",
   "execution_count": 10,
   "id": "32f2da04-1c4c-435e-a5e2-3e98e31bd4e7",
   "metadata": {},
   "outputs": [
    {
     "data": {
      "text/plain": [
       "435"
      ]
     },
     "execution_count": 10,
     "metadata": {},
     "output_type": "execute_result"
    }
   ],
   "source": [
    "len(races)"
   ]
  },
  {
   "cell_type": "code",
   "execution_count": 11,
   "id": "50c94633-b6b8-4c72-a7f0-c4c7862c67af",
   "metadata": {},
   "outputs": [],
   "source": [
    "for race in races:\n",
    "    race['statePostal'] = race['reportingUnits'][0]['statePostal']\n",
    "    candidates = race['reportingUnits'][0]['candidates']\n",
    "    race['voteCount_Total'] = sum([c['voteCount'] for c in candidates])\n",
    "    if len([c for c in candidates if c['party']=='GOP'])==1 and len([c for c in candidates if c['party']=='Dem'])==1:\n",
    "        candidate_GOP = [c for c in candidates if c['party']=='GOP'][0]\n",
    "        candidate_Dem = [c for c in candidates if c['party']=='Dem'][0]\n",
    "        race['candidate_GOP'] = candidate_GOP['first'] + ' ' + candidate_GOP['last']\n",
    "        race['candidate_Dem'] = candidate_Dem['first'] + ' ' + candidate_Dem['last']\n",
    "        race['voteCount_GOP'] = candidate_GOP['voteCount']\n",
    "        race['voteCount_Dem'] = candidate_Dem['voteCount']\n",
    "        race['voteCount_Total'] = sum([c['voteCount'] for c in candidates])\n",
    "result = pd.DataFrame(races)\n",
    "result['votePct_GOP'] = result['voteCount_GOP'] / result['voteCount_Total'] * 100\n",
    "result['votePct_Dem'] = result['voteCount_Dem'] / result['voteCount_Total'] * 100\n",
    "\n",
    "result = result[(result.raceCallStatus=='Too Early to Call')]\n",
    "result = result[(~result.voteCount_GOP.isna())]\n",
    "\n",
    "result[['statePostal', 'seatNum', 'eevp', 'voteCount_Total', 'candidate_GOP', 'voteCount_GOP', 'votePct_GOP', 'candidate_Dem', 'voteCount_Dem', 'votePct_Dem']].to_csv(\n",
    "    'votePct_house.csv', encoding='utf_8_sig', index=False\n",
    ")"
   ]
  },
  {
   "cell_type": "code",
   "execution_count": null,
   "id": "38c4efe8-7197-4747-bfcc-36a32e8069a3",
   "metadata": {},
   "outputs": [],
   "source": []
  },
  {
   "cell_type": "code",
   "execution_count": null,
   "id": "fd982f2b-70fc-4bf0-9706-bb6f264ae964",
   "metadata": {},
   "outputs": [],
   "source": []
  }
 ],
 "metadata": {
  "kernelspec": {
   "display_name": "Python 3 (ipykernel)",
   "language": "python",
   "name": "python3"
  },
  "language_info": {
   "codemirror_mode": {
    "name": "ipython",
    "version": 3
   },
   "file_extension": ".py",
   "mimetype": "text/x-python",
   "name": "python",
   "nbconvert_exporter": "python",
   "pygments_lexer": "ipython3",
   "version": "3.7.11"
  }
 },
 "nbformat": 4,
 "nbformat_minor": 5
}
