{
 "cells": [
  {
   "cell_type": "code",
   "execution_count": 216,
   "id": "c3156f36-f829-458d-84a4-7a5c6f1b0c36",
   "metadata": {},
   "outputs": [],
   "source": [
    "import pandas as pd"
   ]
  },
  {
   "cell_type": "code",
   "execution_count": 217,
   "id": "496c945c-9e52-46a3-9da7-8116d72a681a",
   "metadata": {},
   "outputs": [],
   "source": [
    "# Import Templates\n",
    "map_house = pd.read_csv('Flourish_templates/map_house.csv', encoding='utf_8_sig', dtype=object)\n",
    "map_senate = pd.read_csv('Flourish_templates/map_senate.csv', encoding='utf_8_sig', dtype=object)\n",
    "bar_house = pd.read_csv('Flourish_templates/bar_house.csv', encoding='utf_8_sig', dtype=object)\n",
    "bar_senate = pd.read_csv('Flourish_templates/bar_senate.csv', encoding='utf_8_sig', dtype=object)"
   ]
  },
  {
   "cell_type": "code",
   "execution_count": 218,
   "id": "03d50248-9fbd-4d75-9e3b-813d2ad19a7d",
   "metadata": {},
   "outputs": [],
   "source": [
    "# Make Dummy data\n",
    "import json\n",
    "result = json.load(open('APAPI_test/electionResults_senate.json'))\n",
    "for race in result['races']:\n",
    "    race['reportingUnits'][0]['candidates'] = [c for c in race['reportingUnits'][0]['candidates'] if 'winner' in c.keys() and c['winner']=='X']\n",
    "races = result['races']\n",
    "winners = pd.DataFrame()\n",
    "for race in races:\n",
    "    df = pd.DataFrame(race['reportingUnits'][0]['candidates'])\n",
    "    df['statePostal'] = race['reportingUnits'][0]['statePostal']\n",
    "    df['stateName'] = race['reportingUnits'][0]['stateName']\n",
    "    df['raceID'] = race['raceID']\n",
    "    if 'seatNum' in race.keys():\n",
    "        df['seatNum'] = race['seatNum']\n",
    "    winners = pd.concat([winners, df])\n",
    "if len(winners) == 0:\n",
    "    pd.DataFrame(columns=['first', 'last', 'abbrv', 'party', 'incumbent', 'candidateID', 'polID',\n",
    "       'ballotOrder', 'polNum', 'voteCount', 'electWon', 'winner',\n",
    "       'winnerDateTime', 'statePostal', 'stateName', 'raceID', 'seatNum']).to_csv(savefile, encoding='utf_8_sig', index=False)\n",
    "else:\n",
    "    winners.to_csv('APAPI/electionResultsWinners_senate.csv', encoding='utf_8_sig', index=False)\n",
    "    \n",
    "# Make Dummy data\n",
    "import json\n",
    "result = json.load(open('APAPI_test/electionResults_house.json'))\n",
    "for race in result['races']:\n",
    "    race['reportingUnits'][0]['candidates'] = [c for c in race['reportingUnits'][0]['candidates'] if 'winner' in c.keys() and c['winner']=='X']\n",
    "races = result['races']\n",
    "winners = pd.DataFrame()\n",
    "for race in races:\n",
    "    df = pd.DataFrame(race['reportingUnits'][0]['candidates'])\n",
    "    df['statePostal'] = race['reportingUnits'][0]['statePostal']\n",
    "    df['stateName'] = race['reportingUnits'][0]['stateName']\n",
    "    df['raceID'] = race['raceID']\n",
    "    if 'seatNum' in race.keys():\n",
    "        df['seatNum'] = race['seatNum']\n",
    "    winners = pd.concat([winners, df])\n",
    "if len(winners) == 0:\n",
    "    pd.DataFrame(columns=['first', 'last', 'party', 'incumbent', 'candidateID', 'polID',\n",
    "       'ballotOrder', 'polNum', 'voteCount', 'electWon', 'winner',\n",
    "       'winnerDateTime', 'statePostal', 'stateName', 'raceID', 'seatNum',\n",
    "       'abbrv', 'middle']).to_csv(savefile, encoding='utf_8_sig', index=False)\n",
    "else:\n",
    "    winners.to_csv('APAPI/electionResultsWinners_house.csv', encoding='utf_8_sig', index=False)"
   ]
  },
  {
   "cell_type": "code",
   "execution_count": 219,
   "id": "76f1f91b-0ec7-4bf6-971e-0997a5821c8e",
   "metadata": {},
   "outputs": [],
   "source": [
    "# Import winners data\n",
    "house = pd.read_csv('APAPI/electionResultsWinners_house.csv', encoding='utf_8_sig')\n",
    "senate = pd.read_csv('APAPI/electionResultsWinners_senate.csv', encoding='utf_8_sig')"
   ]
  },
  {
   "cell_type": "code",
   "execution_count": 220,
   "id": "d75fb975-26bd-46c2-8e04-d99dfd397ccb",
   "metadata": {},
   "outputs": [],
   "source": [
    "# Import race ids\n",
    "raceID_house = pd.read_csv('raceID_house.csv', encoding='utf_8_sig', dtype=object)['raceID'].to_list()\n",
    "raceID_senate = pd.read_csv('raceID_senate.csv', encoding='utf_8_sig', dtype=object)['raceID'].to_list()\n",
    "house = house[house.raceID.isin(raceID_house)].copy()\n",
    "senate = senate[senate.raceID.isin(raceID_senate)].copy()"
   ]
  },
  {
   "cell_type": "code",
   "execution_count": 221,
   "id": "9549b858-abe3-41ff-b673-dabe53eb747c",
   "metadata": {},
   "outputs": [],
   "source": [
    "# Make map_house\n",
    "if len(house) > 0:\n",
    "    _dict = {'Dem':'民主党', 'GOP':'共和党'}\n",
    "    df = house.copy()\n",
    "    df['districtID'] = df['statePostal'].astype(str) + df['seatNum'].astype(str).str.zfill(2)\n",
    "    df['政党'] = df['party'].apply(lambda x: _dict[x] if x in _dict.keys() else 'その他')\n",
    "    map_house = pd.merge(map_house[['geometry', 'districtID']], df[['districtID', '政党']], on='districtID', how='left').fillna('残り')\n",
    "map_house.to_csv('Flourish/map_house.csv', encoding='utf_8_sig', index=False)"
   ]
  },
  {
   "cell_type": "code",
   "execution_count": 225,
   "id": "8adfdf61-87ab-4a60-a0b5-5b058aeba554",
   "metadata": {},
   "outputs": [],
   "source": [
    "# Make map_senate\n",
    "if len(senate) > 0:\n",
    "    for i, row in map_senate[map_senate['議席']=='改選'].iterrows():\n",
    "        t_df = senate[senate.raceID==row.raceID].copy()\n",
    "        if len(t_df) == 1:\n",
    "            map_senate.loc[i, '結果'] = t_df.iloc[0].party.apply(lambda x: _dict[x] if x in _dict.keys() else 'その他')\n",
    "map_senate.to_csv('Flourish/map_senate.csv', encoding='utf_8_sig', index=False)"
   ]
  },
  {
   "cell_type": "code",
   "execution_count": 226,
   "id": "2851944c-d2b6-475d-9b9c-3791b358a09c",
   "metadata": {},
   "outputs": [],
   "source": [
    "# Make bar_house\n",
    "if len(house) > 0:\n",
    "    _dict = {'Dem':'民主党', 'GOP':'共和党'}\n",
    "    df = house.copy()\n",
    "    df.party = df.party.apply(lambda x: _dict[x] if x in _dict.keys() else 'その他')\n",
    "    result = df.party.value_counts().to_dict()\n",
    "    for c in ['民主党', 'その他', '共和党']:\n",
    "        if c not in result.keys():\n",
    "            result[c] = 0\n",
    "    for c in ['民主党', 'その他', '共和党']:\n",
    "        bar_house.iloc[0][c] = result[c]\n",
    "    bar_house.iloc[0]['残り'] = 435 - sum(result.values())\n",
    "bar_house.to_csv('Flourish/bar_house.csv', encoding='utf_8_sig', index=False)"
   ]
  },
  {
   "cell_type": "code",
   "execution_count": 227,
   "id": "3d570cec-4fb8-48d1-abe1-f39283843571",
   "metadata": {},
   "outputs": [],
   "source": [
    "# Make bar_senate\n",
    "if len(senate) > 0:\n",
    "    _dict = {'Dem':'民主党', 'GOP':'共和党'}\n",
    "    df = senate.copy()\n",
    "    df.party = df.party.apply(lambda x: _dict[x] if x in _dict.keys() else 'その他')\n",
    "    result = df.party.value_counts().to_dict()\n",
    "    for c in ['民主党', 'その他', '共和党']:\n",
    "        if c not in result.keys():\n",
    "            result[c] = 0\n",
    "    for c in ['民主党', 'その他', '共和党']:\n",
    "        bar_senate.iloc[0][c] = result[c]\n",
    "    bar_senate.iloc[0]['残り'] = 35 - sum(result.values())\n",
    "bar_senate.to_csv('Flourish/bar_senate.csv', encoding='utf_8_sig', index=False)"
   ]
  },
  {
   "cell_type": "code",
   "execution_count": null,
   "id": "c0ba6903-87f2-4129-b508-adef105880a6",
   "metadata": {},
   "outputs": [],
   "source": []
  }
 ],
 "metadata": {
  "kernelspec": {
   "display_name": "Python 3 (ipykernel)",
   "language": "python",
   "name": "python3"
  },
  "language_info": {
   "codemirror_mode": {
    "name": "ipython",
    "version": 3
   },
   "file_extension": ".py",
   "mimetype": "text/x-python",
   "name": "python",
   "nbconvert_exporter": "python",
   "pygments_lexer": "ipython3",
   "version": "3.7.11"
  }
 },
 "nbformat": 4,
 "nbformat_minor": 5
}
