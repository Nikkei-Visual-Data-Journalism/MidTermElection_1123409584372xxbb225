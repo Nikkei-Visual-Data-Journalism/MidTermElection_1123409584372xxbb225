{
 "cells": [
  {
   "cell_type": "code",
   "execution_count": 10,
   "id": "c3156f36-f829-458d-84a4-7a5c6f1b0c36",
   "metadata": {},
   "outputs": [],
   "source": [
    "import pandas as pd"
   ]
  },
  {
   "cell_type": "code",
   "execution_count": 11,
   "id": "496c945c-9e52-46a3-9da7-8116d72a681a",
   "metadata": {},
   "outputs": [],
   "source": [
    "# Import Templates\n",
    "map_house = pd.read_csv('Flourish_templates/map_house.csv', encoding='utf_8_sig', dtype=object)\n",
    "map_senate = pd.read_csv('Flourish_templates/map_senate.csv', encoding='utf_8_sig', dtype=object)\n",
    "bar_house = pd.read_csv('Flourish_templates/bar_house.csv', encoding='utf_8_sig', dtype=object)\n",
    "bar_senate = pd.read_csv('Flourish_templates/bar_senate.csv', encoding='utf_8_sig', dtype=object)"
   ]
  },
  {
   "cell_type": "code",
   "execution_count": 29,
   "id": "03d50248-9fbd-4d75-9e3b-813d2ad19a7d",
   "metadata": {},
   "outputs": [],
   "source": [
    "# Make Dummy data\n",
    "import json\n",
    "result = json.load(open('APAPI_test/electionResults_senate.json'))\n",
    "for race in result['races']:\n",
    "    race['reportingUnits'][0]['candidates'] = [c for c in race['reportingUnits'][0]['candidates'] if 'winner' in c.keys() and c['winner']=='X']\n",
    "races = result['races']\n",
    "winners = pd.DataFrame()\n",
    "for race in races:\n",
    "    df = pd.DataFrame(race['reportingUnits'][0]['candidates'])\n",
    "    df['statePostal'] = race['reportingUnits'][0]['statePostal']\n",
    "    df['stateName'] = race['reportingUnits'][0]['stateName']\n",
    "    df['raceID'] = race['raceID']\n",
    "    if 'seatNum' in race.keys():\n",
    "        df['seatNum'] = race['seatNum']\n",
    "    winners = pd.concat([winners, df])\n",
    "    \n",
    "if len(winners) == 0:\n",
    "    pd.DataFrame(columns=['first', 'last', 'abbrv', 'party', 'incumbent', 'candidateID', 'polID',\n",
    "       'ballotOrder', 'polNum', 'voteCount', 'electWon', 'winner',\n",
    "       'winnerDateTime', 'statePostal', 'stateName', 'raceID', 'seatNum']).to_csv('APAPI/electionResultsWinners_senate.csv', encoding='utf_8_sig', index=False)\n",
    "else:\n",
    "    winners.to_csv('APAPI/electionResultsWinners_senate.csv', encoding='utf_8_sig', index=False)\n",
    "    \n",
    "# Make Dummy data\n",
    "import json\n",
    "result = json.load(open('APAPI_test/electionResults_house.json'))\n",
    "for race in result['races']:\n",
    "    race['reportingUnits'][0]['candidates'] = [c for c in race['reportingUnits'][0]['candidates'] if 'winner' in c.keys() and c['winner']=='X']\n",
    "races = result['races']\n",
    "\n",
    "winners = pd.DataFrame()\n",
    "for race in races:\n",
    "    df = pd.DataFrame(race['reportingUnits'][0]['candidates'])\n",
    "    df['statePostal'] = race['reportingUnits'][0]['statePostal']\n",
    "    df['stateName'] = race['reportingUnits'][0]['stateName']\n",
    "    df['raceID'] = race['raceID']\n",
    "    if 'seatNum' in race.keys():\n",
    "        df['seatNum'] = race['seatNum']\n",
    "    winners = pd.concat([winners, df])\n",
    "if len(winners) == 0:\n",
    "    pd.DataFrame(columns=['first', 'last', 'party', 'incumbent', 'candidateID', 'polID',\n",
    "       'ballotOrder', 'polNum', 'voteCount', 'electWon', 'winner',\n",
    "       'winnerDateTime', 'statePostal', 'stateName', 'raceID', 'seatNum',\n",
    "       'abbrv', 'middle']).to_csv('APAPI/electionResultsWinners_house.csv', encoding='utf_8_sig', index=False)\n",
    "else:\n",
    "    winners.to_csv('APAPI/electionResultsWinners_house.csv', encoding='utf_8_sig', index=False)"
   ]
  },
  {
   "cell_type": "code",
   "execution_count": 48,
   "id": "76f1f91b-0ec7-4bf6-971e-0997a5821c8e",
   "metadata": {},
   "outputs": [],
   "source": [
    "# Import winners data\n",
    "house = pd.read_csv('APAPI/electionResultsWinners_house.csv', encoding='utf_8_sig', dtype=object)\n",
    "senate = pd.read_csv('APAPI/electionResultsWinners_senate.csv', encoding='utf_8_sig', dtype=object)"
   ]
  },
  {
   "cell_type": "code",
   "execution_count": 43,
   "id": "d75fb975-26bd-46c2-8e04-d99dfd397ccb",
   "metadata": {},
   "outputs": [],
   "source": [
    "# Import race ids\n",
    "raceID_house = pd.read_csv('raceID_house.csv', encoding='utf_8_sig', dtype=object)['raceID'].to_list()\n",
    "raceID_senate = pd.read_csv('raceID_senate.csv', encoding='utf_8_sig', dtype=object)['raceID'].to_list()\n",
    "house = house[house.raceID.isin(raceID_house)].copy()\n",
    "senate = senate[senate.raceID.isin(raceID_senate)].copy()"
   ]
  },
  {
   "cell_type": "code",
   "execution_count": 50,
   "id": "8ed94f6f-337e-493c-8ea7-c960a8e76633",
   "metadata": {},
   "outputs": [
    {
     "data": {
      "text/html": [
       "<div>\n",
       "<style scoped>\n",
       "    .dataframe tbody tr th:only-of-type {\n",
       "        vertical-align: middle;\n",
       "    }\n",
       "\n",
       "    .dataframe tbody tr th {\n",
       "        vertical-align: top;\n",
       "    }\n",
       "\n",
       "    .dataframe thead th {\n",
       "        text-align: right;\n",
       "    }\n",
       "</style>\n",
       "<table border=\"1\" class=\"dataframe\">\n",
       "  <thead>\n",
       "    <tr style=\"text-align: right;\">\n",
       "      <th></th>\n",
       "      <th>geometry</th>\n",
       "      <th>districtID</th>\n",
       "      <th>政党</th>\n",
       "      <th>district</th>\n",
       "    </tr>\n",
       "  </thead>\n",
       "  <tbody>\n",
       "    <tr>\n",
       "      <th>0</th>\n",
       "      <td>{\"type\":\"MultiPolygon\",\"coordinates\":[[[[-179....</td>\n",
       "      <td>AK01</td>\n",
       "      <td>残り</td>\n",
       "      <td>アラスカ(01)</td>\n",
       "    </tr>\n",
       "  </tbody>\n",
       "</table>\n",
       "</div>"
      ],
      "text/plain": [
       "                                            geometry districtID  政党  district\n",
       "0  {\"type\":\"MultiPolygon\",\"coordinates\":[[[[-179....       AK01  残り  アラスカ(01)"
      ]
     },
     "execution_count": 50,
     "metadata": {},
     "output_type": "execute_result"
    }
   ],
   "source": [
    "map_house.head(1)"
   ]
  },
  {
   "cell_type": "code",
   "execution_count": 51,
   "id": "00bbbc45-31ee-4c25-bd0a-7042881dc66a",
   "metadata": {},
   "outputs": [
    {
     "data": {
      "text/html": [
       "<div>\n",
       "<style scoped>\n",
       "    .dataframe tbody tr th:only-of-type {\n",
       "        vertical-align: middle;\n",
       "    }\n",
       "\n",
       "    .dataframe tbody tr th {\n",
       "        vertical-align: top;\n",
       "    }\n",
       "\n",
       "    .dataframe thead th {\n",
       "        text-align: right;\n",
       "    }\n",
       "</style>\n",
       "<table border=\"1\" class=\"dataframe\">\n",
       "  <thead>\n",
       "    <tr style=\"text-align: right;\">\n",
       "      <th></th>\n",
       "      <th>first</th>\n",
       "      <th>last</th>\n",
       "      <th>party</th>\n",
       "      <th>incumbent</th>\n",
       "      <th>candidateID</th>\n",
       "      <th>polID</th>\n",
       "      <th>ballotOrder</th>\n",
       "      <th>polNum</th>\n",
       "      <th>voteCount</th>\n",
       "      <th>electWon</th>\n",
       "      <th>winner</th>\n",
       "      <th>winnerDateTime</th>\n",
       "      <th>statePostal</th>\n",
       "      <th>stateName</th>\n",
       "      <th>raceID</th>\n",
       "      <th>seatNum</th>\n",
       "      <th>abbrv</th>\n",
       "      <th>middle</th>\n",
       "    </tr>\n",
       "  </thead>\n",
       "  <tbody>\n",
       "    <tr>\n",
       "      <th>0</th>\n",
       "      <td>Jerry</td>\n",
       "      <td>Carl</td>\n",
       "      <td>GOP</td>\n",
       "      <td>True</td>\n",
       "      <td>5819</td>\n",
       "      <td>68313</td>\n",
       "      <td>1.0</td>\n",
       "      <td>3790</td>\n",
       "      <td>138022.0</td>\n",
       "      <td>0.0</td>\n",
       "      <td>X</td>\n",
       "      <td>2022-11-02T21:06:23.002Z</td>\n",
       "      <td>AL</td>\n",
       "      <td>Alabama</td>\n",
       "      <td>1005</td>\n",
       "      <td>1</td>\n",
       "      <td>NaN</td>\n",
       "      <td>NaN</td>\n",
       "    </tr>\n",
       "  </tbody>\n",
       "</table>\n",
       "</div>"
      ],
      "text/plain": [
       "   first  last party incumbent candidateID  polID ballotOrder polNum  \\\n",
       "0  Jerry  Carl   GOP      True        5819  68313         1.0   3790   \n",
       "\n",
       "  voteCount electWon winner            winnerDateTime statePostal stateName  \\\n",
       "0  138022.0      0.0      X  2022-11-02T21:06:23.002Z          AL   Alabama   \n",
       "\n",
       "  raceID seatNum abbrv middle  \n",
       "0   1005       1   NaN    NaN  "
      ]
     },
     "execution_count": 51,
     "metadata": {},
     "output_type": "execute_result"
    }
   ],
   "source": [
    "house.head(1)"
   ]
  },
  {
   "cell_type": "code",
   "execution_count": 52,
   "id": "9549b858-abe3-41ff-b673-dabe53eb747c",
   "metadata": {},
   "outputs": [],
   "source": [
    "# Make map_house\n",
    "if len(house) > 0:\n",
    "    _dict = {'Dem':'民主党', 'GOP':'共和党'}\n",
    "    _dict2 = map_house.set_index('districtID')['district'].to_dict()\n",
    "    df = house.copy()\n",
    "    df['districtID'] = df['statePostal'].astype(str) + df['seatNum'].astype(str).str.zfill(2)\n",
    "    df['政党'] = df['party'].apply(lambda x: _dict[x] if x in _dict.keys() else 'その他')\n",
    "    map_house = pd.merge(map_house[['geometry', 'districtID']], df[['districtID', '政党']], on='districtID', how='left').fillna('残り')\n",
    "    map_house['district'] = map_house['districtID'].apply(lambda x: _dict2[x])\n",
    "map_house.to_csv('Flourish/map_house.csv', encoding='utf_8_sig', index=False)"
   ]
  },
  {
   "cell_type": "code",
   "execution_count": 57,
   "id": "8adfdf61-87ab-4a60-a0b5-5b058aeba554",
   "metadata": {},
   "outputs": [],
   "source": [
    "# Make map_senate\n",
    "if len(senate) > 0:\n",
    "    for i, row in map_senate[map_senate['議席']=='改選'].iterrows():\n",
    "        t_df = senate[senate.raceID==row.raceID].copy()\n",
    "        if len(t_df) == 1:\n",
    "            map_senate.loc[i, '結果'] = _dict[t_df.iloc[0].party] if t_df.iloc[0].party in _dict.keys() else 'その他'\n",
    "map_senate.to_csv('Flourish/map_senate.csv', encoding='utf_8_sig', index=False)"
   ]
  },
  {
   "cell_type": "code",
   "execution_count": 60,
   "id": "2851944c-d2b6-475d-9b9c-3791b358a09c",
   "metadata": {},
   "outputs": [],
   "source": [
    "# Make bar_house\n",
    "if len(house) > 0:\n",
    "    _dict = {'Dem':'民主党', 'GOP':'共和党'}\n",
    "    df = house.copy()\n",
    "    df.party = df.party.apply(lambda x: _dict[x] if x in _dict.keys() else 'その他')\n",
    "    result = df.party.value_counts().to_dict()\n",
    "    for c in ['民主党', 'その他', '共和党']:\n",
    "        if c not in result.keys():\n",
    "            result[c] = 0\n",
    "    for c in ['民主党', 'その他', '共和党']:\n",
    "        bar_house.iloc[0][c] = result[c]\n",
    "    bar_house.iloc[0]['残り'] = 435 - sum(result.values())\n",
    "bar_house.to_csv('Flourish/bar_house.csv', encoding='utf_8_sig', index=False)"
   ]
  },
  {
   "cell_type": "code",
   "execution_count": 61,
   "id": "3d570cec-4fb8-48d1-abe1-f39283843571",
   "metadata": {},
   "outputs": [],
   "source": [
    "# Make bar_senate\n",
    "if len(senate) > 0:\n",
    "    _dict = {'Dem':'民主党', 'GOP':'共和党'}\n",
    "    df = senate.copy()\n",
    "    df.party = df.party.apply(lambda x: _dict[x] if x in _dict.keys() else 'その他')\n",
    "    result = df.party.value_counts().to_dict()\n",
    "    for c in ['民主党', 'その他', '共和党']:\n",
    "        if c not in result.keys():\n",
    "            result[c] = 0\n",
    "    for c in ['民主党', 'その他', '共和党']:\n",
    "        bar_senate.iloc[0][c] = result[c]\n",
    "    bar_senate.iloc[0]['残り'] = 35 - sum(result.values())\n",
    "bar_senate.to_csv('Flourish/bar_senate.csv', encoding='utf_8_sig', index=False)"
   ]
  },
  {
   "cell_type": "code",
   "execution_count": null,
   "id": "c0ba6903-87f2-4129-b508-adef105880a6",
   "metadata": {},
   "outputs": [],
   "source": []
  }
 ],
 "metadata": {
  "kernelspec": {
   "display_name": "Python 3 (ipykernel)",
   "language": "python",
   "name": "python3"
  },
  "language_info": {
   "codemirror_mode": {
    "name": "ipython",
    "version": 3
   },
   "file_extension": ".py",
   "mimetype": "text/x-python",
   "name": "python",
   "nbconvert_exporter": "python",
   "pygments_lexer": "ipython3",
   "version": "3.7.11"
  }
 },
 "nbformat": 4,
 "nbformat_minor": 5
}
